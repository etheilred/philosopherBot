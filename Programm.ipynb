{
 "cells": [
  {
   "cell_type": "code",
   "execution_count": 53,
   "metadata": {},
   "outputs": [],
   "source": [
    "import random\n",
    "from collections import OrderedDict"
   ]
  },
  {
   "cell_type": "code",
   "execution_count": 54,
   "metadata": {},
   "outputs": [],
   "source": [
    "def conct(arr1, arr2):\n",
    "    for i in range(len(arr2)):\n",
    "        arr1.append(arr2[i])\n",
    "    return arr1"
   ]
  },
  {
   "cell_type": "code",
   "execution_count": 64,
   "metadata": {},
   "outputs": [],
   "source": [
    "def photo_search(joke):\n",
    "    dt = OrderedDict()\n",
    "    for i in range(len(joke)):\n",
    "        if joke[i] not in dt:\n",
    "            dt[joke[i]] = 1\n",
    "        else:\n",
    "            dt[joke[i]] += 1\n",
    "    for i in dt:\n",
    "        a = i\n",
    "        break\n",
    "    \n",
    "def random_start(text):\n",
    "    num = random.randint(1,len(text))\n",
    "    for  i in range(len(text)):\n",
    "        if i+1 == num:\n",
    "            return(text[i][1] + \" \" + text[i][2])\n",
    "def search(text, word):\n",
    "    for  i in range(len(text)):\n",
    "        if word == text[i][1]:\n",
    "            return(word + \" \" + text[i][2])\n",
    "def destr(word,key):\n",
    "    st = \"\"\n",
    "    arr = list(map(str, word.split()))\n",
    "    st += arr[1]+\" \"\n",
    "    st+=key\n",
    "    return st"
   ]
  },
  {
   "cell_type": "code",
   "execution_count": 65,
   "metadata": {},
   "outputs": [],
   "source": [
    "def frequency(dt, word):\n",
    "    # размер высказавания пока будет равен 10\n",
    "    arr = list(map(str, word.split()))\n",
    "    st = arr[0].title() + \" \" \n",
    "    for i in range(10):\n",
    "        own,bill = 0,0\n",
    "        for el in dt[word]:\n",
    "            own += dt[word][el]\n",
    "        num = random.uniform(0, 1)\n",
    "        for el in dt[word]:\n",
    "            bill += dt[word][el]\n",
    "            if bill / own > num:\n",
    "                st += el + \" \"\n",
    "                word = destr(word,el)\n",
    "                if el == \"END\":\n",
    "                    return st\n",
    "                break\n",
    "    return st"
   ]
  },
  {
   "cell_type": "code",
   "execution_count": 66,
   "metadata": {},
   "outputs": [],
   "source": [
    "def normalize(text):\n",
    "    dt = {}\n",
    "    for i in range(len(text)):\n",
    "        for j in range(1,len(text[i])-2):\n",
    "            unick = text[i][j] + \" \" + text[i][j+1]\n",
    "            if unick not in dt:\n",
    "                d = {}\n",
    "                d[text[i][j+2]] = 1\n",
    "                dt[unick] = d\n",
    "            else:\n",
    "                if text[i][j + 2] not in dt[unick]:\n",
    "                    dt[unick][text[i][j+2]] = 1\n",
    "                else:\n",
    "                    dt[unick][text[i][j+2]] += 1\n",
    "                        \n",
    "    return dt"
   ]
  },
  {
   "cell_type": "code",
   "execution_count": 67,
   "metadata": {},
   "outputs": [],
   "source": [
    "def parse2(words):\n",
    "    arr = []\n",
    "    st = \"\"\n",
    "    index = 0\n",
    "    arr.append([\"START\"])\n",
    "    for i in range(len(words)):\n",
    "        for j in range(len(words[i])):\n",
    "            if words[i][j] >= \"а\" and words[i][j] <= \"я\":\n",
    "                st += words[i][j]\n",
    "            elif words[i][j] == \".\":\n",
    "                arr[index].append(st)\n",
    "                arr[index].append(\"END\")\n",
    "                index+= 1\n",
    "                st = \"\"\n",
    "                arr.append([\"START\"])\n",
    "                break\n",
    "            elif st != \"\":\n",
    "                arr[index].append(st)\n",
    "                st = \"\"\n",
    "        if st != \"\":\n",
    "            arr[index].append(st)\n",
    "            arr[index].append(\"END\")\n",
    "    return arr"
   ]
  },
  {
   "cell_type": "code",
   "execution_count": 73,
   "metadata": {},
   "outputs": [
    {
     "name": "stdout",
     "output_type": "stream",
     "text": [
      "мы\n",
      "Мы лишь для того чтобы познавать красоту \n"
     ]
    }
   ],
   "source": [
    "text_file =  open('Phil1.txt', 'r')\n",
    "pre_text = text_file.readlines()\n",
    "pre_text = parse2(pre_text)[:-1]\n",
    "text_file.close()\n",
    "text_file =  open('Phil2.txt', 'r')\n",
    "new = text_file.readlines()\n",
    "pre_text = conct(pre_text,parse2(new)[:-1])\n",
    "text_file.close()\n",
    "dt = normalize(pre_text)\n",
    "start = input()\n",
    "a = False\n",
    "for i in range(len(pre_text)):\n",
    "    if pre_text[i][1] == start:\n",
    "        a = True\n",
    "        start = search(pre_text, start)\n",
    "        break\n",
    "if not a:\n",
    "    start = random_start(pre_text)\n",
    "st = frequency(dt, start)\n",
    "if st[-2] == \"D\":\n",
    "    st = st[:-4]\n",
    "print(st)"
   ]
  },
  {
   "cell_type": "code",
   "execution_count": null,
   "metadata": {},
   "outputs": [],
   "source": []
  },
  {
   "cell_type": "code",
   "execution_count": null,
   "metadata": {},
   "outputs": [],
   "source": []
  },
  {
   "cell_type": "code",
   "execution_count": null,
   "metadata": {},
   "outputs": [],
   "source": []
  }
 ],
 "metadata": {
  "kernelspec": {
   "display_name": "Python 3",
   "language": "python",
   "name": "python3"
  },
  "language_info": {
   "codemirror_mode": {
    "name": "ipython",
    "version": 3
   },
   "file_extension": ".py",
   "mimetype": "text/x-python",
   "name": "python",
   "nbconvert_exporter": "python",
   "pygments_lexer": "ipython3",
   "version": "3.7.1"
  }
 },
 "nbformat": 4,
 "nbformat_minor": 2
}
